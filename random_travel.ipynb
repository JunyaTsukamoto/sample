{
 "cells": [
  {
   "cell_type": "code",
   "execution_count": 44,
   "metadata": {},
   "outputs": [],
   "source": [
    "# browser_auto_foods.py\n",
    "from selenium import webdriver\n",
    "from selenium.webdriver.common.keys import Keys\n",
    "import pandas as pd \n",
    "df = pd.read_excel(\"地区コード.xlsx\")\n",
    "#エクセルデータはhttps://www.soumu.go.jp/denshijiti/code.html\n",
    "\n",
    "def random_travel():\n",
    "    global df\n",
    "    sample = df.sample()\n",
    "\n",
    "    #dfを文字化\n",
    "    ken = sample[\"都道府県名\\n（漢字）\"]\n",
    "    ken_li = list(ken)\n",
    "    si = sample[\"市区町村名\\n（漢字）\"]\n",
    "    si_li = list(si)\n",
    "    google = ken_li[0] + si_li[0]\n",
    "\n",
    "    chrome = webdriver.Chrome(\"C:\\Windows/chromedriver.exe\")\n",
    "\n",
    "    # グーグルを開く\n",
    "    chrome.get(\"https://www.google.co.jp\")\n",
    "\n",
    "    # 検索ワード入力\n",
    "    search_box = chrome.find_element_by_name(\"q\")\n",
    "    search_box.send_keys(google)\n",
    "\n",
    "    # 検索実行\n",
    "    search_box.send_keys(Keys.RETURN)\n",
    "    element = chrome.find_element_by_link_text(\"地図\")\n",
    "    element.click()\n",
    "    #print(chrome.title)\n"
   ]
  },
  {
   "cell_type": "code",
   "execution_count": 45,
   "metadata": {},
   "outputs": [],
   "source": [
    "random_travel()"
   ]
  },
  {
   "cell_type": "code",
   "execution_count": 46,
   "metadata": {},
   "outputs": [
    {
     "ename": "SyntaxError",
     "evalue": "invalid syntax (<ipython-input-46-6b954ae0a981>, line 1)",
     "output_type": "error",
     "traceback": [
      "\u001b[1;36m  File \u001b[1;32m\"<ipython-input-46-6b954ae0a981>\"\u001b[1;36m, line \u001b[1;32m1\u001b[0m\n\u001b[1;33m    git remote add origin https://github.com/JunyaTsukamoto/train.git\u001b[0m\n\u001b[1;37m             ^\u001b[0m\n\u001b[1;31mSyntaxError\u001b[0m\u001b[1;31m:\u001b[0m invalid syntax\n"
     ]
    }
   ],
   "source": []
  },
  {
   "cell_type": "code",
   "execution_count": null,
   "metadata": {},
   "outputs": [],
   "source": []
  }
 ],
 "metadata": {
  "kernelspec": {
   "display_name": "Python 3",
   "language": "python",
   "name": "python3"
  },
  "language_info": {
   "codemirror_mode": {
    "name": "ipython",
    "version": 3
   },
   "file_extension": ".py",
   "mimetype": "text/x-python",
   "name": "python",
   "nbconvert_exporter": "python",
   "pygments_lexer": "ipython3",
   "version": "3.7.7"
  }
 },
 "nbformat": 4,
 "nbformat_minor": 4
}
